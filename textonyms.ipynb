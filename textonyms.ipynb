{
 "cells": [
  {
   "cell_type": "markdown",
   "id": "7c06e1ba",
   "metadata": {},
   "source": [
    "# Textonyms\n",
    "These are words that are spelled using [the same keys on a phone keypad](https://en.wikipedia.org/wiki/Predictive_text#Textonyms).\n",
    "\n",
    "Let's create a way to load a particular keypad. The ```standard_keypad.txt``` file in this repo represents the ITU [E.161](https://en.wikipedia.org/wiki/E.161) recommended layout."
   ]
  },
  {
   "cell_type": "code",
   "execution_count": 1,
   "id": "7cea00cc",
   "metadata": {},
   "outputs": [],
   "source": [
    "def load_keypad(file):\n",
    "    \"\"\"\n",
    "    Loads the key:character mapping from a text file.\n",
    "    Format should be key, then space, then all characters for that key.\n",
    "    Input: text file.\n",
    "    Output: translation table produced by str.maketrans()\n",
    "    \"\"\"\n",
    "    with open(file, 'r') as f:\n",
    "        keys = [line.rstrip().lower() for line in f.readlines()]\n",
    "    \n",
    "    #create two lists for maketrans\n",
    "    key_numbers = []\n",
    "    key_letters = []\n",
    "    \n",
    "    for key in keys:\n",
    "        if len(key) == 1: #that is, no letters assigned to it\n",
    "            pass\n",
    "        else:\n",
    "            num, letts = key.split(' ')\n",
    "            key_numbers.extend(num * len(letts))\n",
    "            key_letters.extend(letts)\n",
    "            \n",
    "    table = str.maketrans(''.join(key_letters), ''.join(key_numbers))\n",
    "        \n",
    "    return table"
   ]
  },
  {
   "cell_type": "code",
   "execution_count": 2,
   "id": "094a8970",
   "metadata": {},
   "outputs": [],
   "source": [
    "def keypresses(string, table):\n",
    "    \"\"\"\n",
    "    Make a textonym from a string and a lookup table.\n",
    "    \"\"\"\n",
    "    return str.translate(string.lower(), table)"
   ]
  },
  {
   "cell_type": "markdown",
   "id": "1019ec25",
   "metadata": {},
   "source": [
    "Let's try it out:"
   ]
  },
  {
   "cell_type": "code",
   "execution_count": 3,
   "id": "70bcd00e",
   "metadata": {},
   "outputs": [
    {
     "data": {
      "text/plain": [
       "'4663'"
      ]
     },
     "execution_count": 3,
     "metadata": {},
     "output_type": "execute_result"
    }
   ],
   "source": [
    "keypad = load_keypad('standard_keypad.txt')\n",
    "keypresses('good', keypad)"
   ]
  },
  {
   "cell_type": "markdown",
   "id": "ccb88752",
   "metadata": {},
   "source": [
    "That works as it should. Now we'll create a dictionary of English words and their textonyms against which a user can look up a word of their choice. There are lots of word lists out there but ```popular.txt``` from [https://github.com/dolph/dictionary/blob/master/popular.txt] seems a good size, with 26,000 entries."
   ]
  },
  {
   "cell_type": "code",
   "execution_count": 4,
   "id": "49ead542",
   "metadata": {},
   "outputs": [],
   "source": [
    "def create_dictionary(file, table):\n",
    "    \"\"\"\n",
    "    Create a dictionary of word:textonym pairs.\n",
    "    Input: line-delimited text file of words, plus table\n",
    "    from load_keypad().\n",
    "    Output: dictionary.\n",
    "    \"\"\"\n",
    "    with open(file, 'r') as f:\n",
    "        words = [line.rstrip() for line in f.readlines()]\n",
    "    \n",
    "    textonyms = [keypresses(word, table) for word in words]\n",
    "    dictionary = dict(zip(words, textonyms))\n",
    "    \n",
    "    return dictionary"
   ]
  },
  {
   "cell_type": "code",
   "execution_count": 5,
   "id": "2afeba89",
   "metadata": {},
   "outputs": [],
   "source": [
    "popular_words = create_dictionary('popular.txt', keypad)"
   ]
  },
  {
   "cell_type": "markdown",
   "id": "ebf777a9",
   "metadata": {},
   "source": [
    "Finally, we make a function that returns a list of textonyms for a given string. If the word provided by the user is also in the big word list, it will return a match against itself, which we probably don't want. We strip out these self-matches before returning the result."
   ]
  },
  {
   "cell_type": "code",
   "execution_count": 6,
   "id": "00b6c81f",
   "metadata": {},
   "outputs": [],
   "source": [
    "def textonyms(input_word, dictionary, table):\n",
    "    \"\"\"\n",
    "    For a given word, find possible textonyms.\n",
    "    Input: string, plus dictionary from create_dictionary(),\n",
    "    plus table from load_keypad()\n",
    "    Output: list of matching strings.\n",
    "    \"\"\"\n",
    "    matches = [word for word,textonym in dictionary.items() if textonym == keypresses(input_word, table)]\n",
    "    matches = [word for word in matches if word != input_word] #remove self-match\n",
    "    return matches"
   ]
  },
  {
   "cell_type": "code",
   "execution_count": 7,
   "id": "66f09b1f",
   "metadata": {},
   "outputs": [
    {
     "data": {
      "text/plain": [
       "['vest']"
      ]
     },
     "execution_count": 7,
     "metadata": {},
     "output_type": "execute_result"
    }
   ],
   "source": [
    "textonyms(\"test\", popular_words, keypad)"
   ]
  }
 ],
 "metadata": {
  "kernelspec": {
   "display_name": "Python 3 (ipykernel)",
   "language": "python",
   "name": "python3"
  },
  "language_info": {
   "codemirror_mode": {
    "name": "ipython",
    "version": 3
   },
   "file_extension": ".py",
   "mimetype": "text/x-python",
   "name": "python",
   "nbconvert_exporter": "python",
   "pygments_lexer": "ipython3",
   "version": "3.7.7"
  }
 },
 "nbformat": 4,
 "nbformat_minor": 5
}
